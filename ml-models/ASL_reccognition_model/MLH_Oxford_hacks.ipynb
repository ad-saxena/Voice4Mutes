{
  "nbformat": 4,
  "nbformat_minor": 0,
  "metadata": {
    "colab": {
      "name": "MLH_Oxford_hacks.ipynb",
      "provenance": [],
      "private_outputs": true
    },
    "kernelspec": {
      "name": "python3",
      "display_name": "Python 3"
    },
    "accelerator": "GPU"
  },
  "cells": [
    {
      "cell_type": "code",
      "metadata": {
        "id": "Vs-oJzpUfiEZ"
      },
      "source": [
        "! pip install -q kaggle"
      ],
      "execution_count": null,
      "outputs": []
    },
    {
      "cell_type": "code",
      "metadata": {
        "id": "vDekwkECf07E"
      },
      "source": [
        "! mkdir ~/.kaggle"
      ],
      "execution_count": null,
      "outputs": []
    },
    {
      "cell_type": "code",
      "metadata": {
        "id": "AaN7QSOff3KE"
      },
      "source": [
        "! cp kaggle.json ~/.kaggle/"
      ],
      "execution_count": null,
      "outputs": []
    },
    {
      "cell_type": "code",
      "metadata": {
        "id": "rlrPFi-rf6j_"
      },
      "source": [
        "! kaggle datasets download -d grassknoted/asl-alphabet\n",
        "! unzip asl-alphabet\n"
      ],
      "execution_count": null,
      "outputs": []
    },
    {
      "cell_type": "code",
      "metadata": {
        "id": "gXc_5hiGhGIJ"
      },
      "source": [
        "#from tensorflow.keras.applications.ResNet50 import ResNet50\n",
        "\n",
        "import pandas as pd\n",
        "import numpy as np\n",
        "import tensorflow.keras\n",
        "from tensorflow.keras.models import Model, load_model, Sequential\n",
        "from tensorflow.keras.layers import Input, Dense, Activation, ZeroPadding2D, BatchNormalization, Flatten, Conv2D\n",
        "from tensorflow.keras.utils import plot_model, to_categorical\n",
        "from tensorflow.keras.layers import AveragePooling2D, MaxPooling2D, Dropout, GlobalMaxPooling2D, GlobalAveragePooling2D\n",
        "from tensorflow.keras.layers import LeakyReLU\n",
        "from tensorflow.keras import regularizers\n",
        "from tensorflow.keras.preprocessing.image import ImageDataGenerator\n",
        "import matplotlib.pyplot as plt\n",
        "import os\n",
        "import tensorflow.keras\n",
        "import cv2\n",
        "import shutil\n",
        "import copy"
      ],
      "execution_count": null,
      "outputs": []
    },
    {
      "cell_type": "code",
      "metadata": {
        "id": "2m2L0tISZCTe"
      },
      "source": [
        "img_h, img_w = (200,200)\n",
        "base_model = tensorflow.keras.applications.ResNet50V2(include_top=False, weights='imagenet', input_shape=(200,200,3))\n",
        "for layer in base_model.layers:\n",
        "  layer.trainable = False\n",
        "num_classes = 29\n",
        "x = base_model.output\n",
        "x = GlobalAveragePooling2D()(x)\n",
        "x = Dropout(0.5)(x)\n",
        "x = Dense(1024, activation='relu')(x)\n",
        "#x = Dropout(0.5)(x)\n",
        "x = Dense(1024, activation='relu')(x)\n",
        "predict = Dense(num_classes, activation='softmax')(x)\n",
        "model = Model(inputs = base_model.input, outputs = predict)"
      ],
      "execution_count": null,
      "outputs": []
    },
    {
      "cell_type": "code",
      "metadata": {
        "id": "KrQ_aPh6whbP"
      },
      "source": [
        "model.compile(optimizer = 'adam', loss = 'categorical_crossentropy', metrics = ['accuracy'])\n",
        "EPOCHS = 10\n",
        "BS = 64\n",
        "aug = ImageDataGenerator(rotation_range=5, zoom_range=0.2, rescale=1./255,\n",
        "                         width_shift_range=0.2, height_shift_range=0.2,\n",
        "                         shear_range=0.2,\n",
        "                         horizontal_flip=False, fill_mode=\"nearest\",validation_split = 0.3)\n",
        "directory = \"/content/asl_alphabet_train/asl_alphabet_train/\"\n",
        "image_generator = aug.flow_from_directory(directory, target_size=(200,200), class_mode = 'categorical', batch_size = BS,subset = 'training')\n",
        "\n",
        "#test_datagen = ImageDataGenerator(rescale=1./255)\n",
        "validation_directory = '/content/asl_alphabet_train/asl_alphabet_train'\n",
        "validation_generator = aug.flow_from_directory(\n",
        "        validation_directory,\n",
        "        target_size=(200, 200),\n",
        "        batch_size=BS,\n",
        "        class_mode='categorical',\n",
        "        subset = 'validation')\n",
        "\n",
        "H = model.fit_generator(image_generator, steps_per_epoch=800, epochs=EPOCHS, validation_data=validation_generator,validation_steps=800 // BS)"
      ],
      "execution_count": null,
      "outputs": []
    },
    {
      "cell_type": "code",
      "metadata": {
        "id": "aYKrlNwXBidI"
      },
      "source": [
        "for layer in model.layers:\n",
        "    layer.trainable = True"
      ],
      "execution_count": null,
      "outputs": []
    },
    {
      "cell_type": "code",
      "metadata": {
        "id": "6qbA3cChBtIR"
      },
      "source": [
        "model.compile(optimizer='adam', loss='categorical_crossentropy',metrics=['accuracy'])\n",
        "\n",
        "EPOCHS = 2\n",
        "BS = 32\n",
        "aug = ImageDataGenerator(rotation_range=5, zoom_range=0.2, rescale=1./255,\n",
        "                         width_shift_range=0.2, height_shift_range=0.2,\n",
        "                         shear_range=0.18,\n",
        "                         horizontal_flip=False, fill_mode=\"nearest\",validation_split = 0.3)\n",
        "\n",
        "#directory for image as data\n",
        "directory = \"/content/asl_alphabet_train/asl_alphabet_train/\"\n",
        "\n",
        "image_generator = aug.flow_from_directory(directory, target_size=(200, 200), \n",
        "                    class_mode='categorical',batch_size=BS, subset = 'training')\n",
        "\n",
        "test_datagen = ImageDataGenerator(rescale=1./255)\n",
        "validation_directory = '/content/asl_alphabet_train/asl_alphabet_train/'\n",
        "validation_generator = aug.flow_from_directory(\n",
        "        directory,\n",
        "        target_size=(200, 200),\n",
        "        batch_size=BS,\n",
        "        class_mode='categorical',\n",
        "        subset = 'validation')\n",
        "\n",
        "H2 = model.fit_generator(image_generator,steps_per_epoch=2000, epochs=EPOCHS, validation_data=validation_generator,validation_steps=800 // BS)\n"
      ],
      "execution_count": null,
      "outputs": []
    },
    {
      "cell_type": "code",
      "metadata": {
        "id": "lRRFgZ2ZBwwS"
      },
      "source": [
        "model.save(\"./resnetV2.h5\")\n",
        "\n",
        "H.history\n",
        "\n",
        "H2.history"
      ],
      "execution_count": null,
      "outputs": []
    },
    {
      "cell_type": "code",
      "metadata": {
        "id": "oHd9uVzBByoO"
      },
      "source": [
        "import tensorflow as tf\n",
        "print(tf.__version__)"
      ],
      "execution_count": null,
      "outputs": []
    },
    {
      "cell_type": "code",
      "metadata": {
        "id": "o-FJiKfu6f1Z"
      },
      "source": [
        ""
      ],
      "execution_count": null,
      "outputs": []
    }
  ]
}